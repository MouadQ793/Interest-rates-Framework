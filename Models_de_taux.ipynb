{
 "cells": [
  {
   "cell_type": "markdown",
   "id": "7ca86e97-3ab3-4eba-9ac3-dba31207957f",
   "metadata": {},
   "source": [
    "# Interest model rates and their applications \n",
    "\n",
    "**Author : Mouad Sehli**  \n",
    "*Email : mouad.sehli@gmail.com*"
   ]
  },
  {
   "cell_type": "markdown",
   "id": "23cae82b-b031-41ae-8a66-f0c2eb0e905f",
   "metadata": {},
   "source": [
    "## Introduction "
   ]
  },
  {
   "cell_type": "markdown",
   "id": "f7d7e747-6006-48c3-86db-625768972a81",
   "metadata": {},
   "source": [
    "Interest rates are the core of the financial system -- they affect everything from the loans people take to build their homes to the complex structured instruments traded on Wall Street. Whether one is a regular person planning on financing a personal project or a massive financial institution trading derivatives, interest rates have a huge impact. That's why understanding how these rates move and change over time is extremely important.\n",
    "\n",
    "In finance, different, fairly complex mathematical models are used to understand, and attempt to predict how interest rates behave. These models help banks, investors, and companies figure out where they stand and how much products such as bonds and loans are really worth. They are also key to pricing complex products such as swaps, caps and swaptions that heavily depend on future interest rates.\n",
    "\n",
    "Having a personal interest in the field, I will be using this project as an opportunity to dwelve into the complex world of interest rate predicting, I will do so by diving into three major types of interest rate models : \n",
    "\n",
    "- **<a href=\"./Short_rates.ipynb\" target=\"_blank\">Short Rates Model</a>** : These models focus on the short-term rates, basically what is one expected to pay if they borrowed money for an incredibly short period. We'll look at some of the more well-known models like the Vasicek and CIR models. These models are popular because they are easy to work with and give good results for bond pricing.\n",
    "\n",
    "- **<a href=\"./Market_Models.ipynb\" target=\"_blank\">Market Models</a>** : Unlike short-rate models, these deal with forward rates, which are predictions of what interest rates will be in the future. The LIBOR (London Interbank Offer Rate ) market model (LMM) is a big deal in this field, especially when it comes to pricing caps and swaptions.\n",
    "\n",
    "- **Heath-Jarrow-Morton (HJM) Framework** : This model takes things a step further by looking at the entire structure of interest rates at once, rather than just the short rate or forward rates. it's more general and powerful but it's also more complex and in someway, tricky to implement.\n",
    "\n",
    "\n",
    "By the end of this project, I will have a solid understanding of how these models work, how to apply them and  why they are so critical for anyone working in finance especially in the world of quanitative finance. \n",
    "\n",
    "\n",
    "\n",
    "\n"
   ]
  },
  {
   "cell_type": "code",
   "execution_count": null,
   "id": "2f232e7e-614d-4eb1-b046-7f6c4df3a6c4",
   "metadata": {},
   "outputs": [],
   "source": []
  }
 ],
 "metadata": {
  "kernelspec": {
   "display_name": "Python 3 (ipykernel)",
   "language": "python",
   "name": "python3"
  },
  "language_info": {
   "codemirror_mode": {
    "name": "ipython",
    "version": 3
   },
   "file_extension": ".py",
   "mimetype": "text/x-python",
   "name": "python",
   "nbconvert_exporter": "python",
   "pygments_lexer": "ipython3",
   "version": "3.12.5"
  }
 },
 "nbformat": 4,
 "nbformat_minor": 5
}
